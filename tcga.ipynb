{
 "cells": [
  {
   "cell_type": "code",
   "execution_count": 1,
   "metadata": {},
   "outputs": [],
   "source": [
    "import pandas as pd\n",
    "import os\n",
    "data='../data/tcga/'"
   ]
  },
  {
   "cell_type": "code",
   "execution_count": 2,
   "metadata": {},
   "outputs": [],
   "source": [
    "#./firehose_get -o .Merge_methylation__humanmethylation450__jhu_usc_edu__Level_3__within_bioassay_data_set_function__data.Level_3.2016012800.0.0.tar.gz data latest"
   ]
  },
  {
   "cell_type": "code",
   "execution_count": 3,
   "metadata": {},
   "outputs": [
    {
     "name": "stdout",
     "output_type": "stream",
     "text": [
      "(32090, 37)\n"
     ]
    },
    {
     "data": {
      "text/plain": [
       "0"
      ]
     },
     "execution_count": 3,
     "metadata": {},
     "output_type": "execute_result"
    }
   ],
   "source": [
    "samples=pd.read_csv(data+'sample.tsv',sep='\\t')\n",
    "print(samples.shape)\n",
    "samples.index.names = ['id']\n",
    "sample_ids=samples.sample_submitter_id.to_dict()\n",
    "sample_ids =  {v: k for k, v in sample_ids.items()}\n",
    "sample_ids['TCGA-F5-6810-01Z']"
   ]
  },
  {
   "cell_type": "code",
   "execution_count": 4,
   "metadata": {},
   "outputs": [
    {
     "data": {
      "text/plain": [
       "dict_keys(['PCPG', 'OV', 'UVM', 'READ', 'TGCT', 'KIRC', 'LGG', 'UCEC', 'COAD', 'KICH', 'BLCA', 'BRCA', 'CESC', 'KIRP', 'ACC', 'LUSC', 'KIPAN', 'STES', 'GBMLGG', 'LIHC', 'COADREAD', 'SKCM', 'LUAD', 'UCS', 'GBM', 'THYM', 'SARC', 'PAAD', 'STAD', 'THCA', 'CHOL', 'DLBC', 'LAML', 'ESCA', 'MESO', 'PRAD', 'HNSC'])"
      ]
     },
     "execution_count": 4,
     "metadata": {},
     "output_type": "execute_result"
    }
   ],
   "source": [
    "#read meth data\n",
    "data_path=data+'broad/stddata__2016_01_28/'\n",
    "meth_files={}\n",
    "for root, dirs, files in os.walk(data_path):\n",
    "    for file in files:\n",
    "        if file.endswith('.tar.gz') and 'data.Level_3' in file and 'FFPE' not in file:\n",
    "            cohort=file.split('org_')[1].split('.Merge')[0]\n",
    "            meth_files[cohort]=os.path.join(root, file)\n",
    "meth_files.keys()"
   ]
  },
  {
   "cell_type": "code",
   "execution_count": 6,
   "metadata": {},
   "outputs": [
    {
     "name": "stdout",
     "output_type": "stream",
     "text": [
      "PCPG\n",
      "(100, 187)\n",
      "(3, 78)\n",
      "OV\n",
      "(100, 10)\n",
      "(0, 80)\n",
      "UVM\n",
      "(100, 80)\n",
      "(0, 80)\n",
      "READ\n",
      "(100, 106)\n",
      "(7, 77)\n",
      "TGCT\n",
      "(100, 156)\n",
      "(0, 80)\n",
      "KIRC\n",
      "(100, 480)\n",
      "(152, 74)\n",
      "LGG\n",
      "(100, 530)\n",
      "(0, 76)\n",
      "UCEC\n",
      "(100, 478)\n",
      "(33, 76)\n",
      "COAD\n",
      "(100, 335)\n",
      "(38, 74)\n",
      "KICH\n",
      "(100, 66)\n",
      "(0, 77)\n",
      "BLCA\n",
      "(100, 434)\n",
      "(21, 76)\n",
      "BRCA\n",
      "CESC\n",
      "(100, 312)\n",
      "(3, 75)\n",
      "KIRP\n",
      "(100, 321)\n",
      "(43, 78)\n",
      "ACC\n",
      "(100, 80)\n",
      "(0, 80)\n",
      "LUSC\n",
      "(100, 412)\n",
      "(42, 77)\n",
      "KIPAN\n",
      "STES\n",
      "GBMLGG\n",
      "LIHC\n",
      "(100, 429)\n",
      "(49, 71)\n",
      "COADREAD\n",
      "(100, 441)\n",
      "(45, 73)\n",
      "SKCM\n",
      "(100, 475)\n",
      "(2, 77)\n",
      "LUAD\n",
      "(100, 492)\n",
      "(31, 73)\n",
      "UCS\n",
      "GBM\n",
      "(100, 155)\n",
      "(1, 77)\n",
      "THYM\n",
      "(100, 126)\n",
      "(1, 79)\n",
      "SARC\n",
      "(100, 269)\n",
      "(4, 74)\n",
      "PAAD\n",
      "(100, 195)\n",
      "(10, 76)\n",
      "STAD\n",
      "(100, 397)\n",
      "(2, 76)\n",
      "THCA\n",
      "CHOL\n",
      "(100, 45)\n",
      "(9, 76)\n",
      "DLBC\n",
      "(100, 48)\n",
      "(0, 80)\n",
      "LAML\n",
      "(100, 194)\n",
      "(0, 80)\n",
      "ESCA\n",
      "(100, 202)\n",
      "(16, 77)\n",
      "MESO\n",
      "(100, 87)\n",
      "(0, 80)\n",
      "PRAD\n",
      "HNSC\n"
     ]
    }
   ],
   "source": [
    "nr=2\n",
    "for cohort,meth_file in meth_files.items():\n",
    "    print (cohort)\n",
    "    if cohort in ['UCS','BRCA','KIPAN','STES','GBMLGG','THCA','PRAD','HNSC']: continue\n",
    "    if cohort in ['BLCA','UCEC','PCPG','CESC','LIHC','CHOL','GBMLGG','HNSC','STAD','PAAD','LUSC','MESO','LGG','LAML',\n",
    "                 'COADREAD','LUAD','BRCA','KICH','UVM']:\n",
    "        df=pd.read_csv(meth_file,sep='\\t',index_col=0,nrows=0,skiprows=1)\n",
    "        cols=df.columns.str[:16].unique()\n",
    "        df=pd.read_csv(meth_file,sep='\\t',index_col=0,skiprows=1,nrows=10**nr)   \n",
    "\n",
    "    else:\n",
    "        df=pd.read_csv(meth_file,sep='\\t',index_col=0,nrows=0)  \n",
    "        cols=df.columns.str[:16].unique()\n",
    "        df=pd.read_csv(meth_file,sep='\\t',index_col=0,skiprows=0,nrows=10**nr) \n",
    "    df=df.iloc[:, range(0,4*len(cols),4)]\n",
    "    print(df.shape)        \n",
    "    df.columns=cols\n",
    "    df=df.drop('Composite Element REF')\n",
    "    df=df.dropna()    \n",
    "    df=df.astype(float)\n",
    "    cohorts=df.T\n",
    "    cols=[c for c in cohorts.columns.tolist() if str(c) != 'nan']\n",
    "    cohorts=cohorts[[c for c in cols if 'cg' in c]]\n",
    "    cohorts['sample_submitter_id']=cohorts.index.str[:16]\n",
    "    df=cohorts.merge(samples[['sample_submitter_id','sample_type']])  \n",
    "    df=df[df.sample_type=='Solid Tissue Normal']\n",
    "    df.index=df.sample_submitter_id\n",
    "    df.drop(['sample_submitter_id','sample_type'],1)\n",
    "    print(df.shape)\n",
    "    if len(df)>0:\n",
    "        df.to_csv(data+'clean/'+cohort+'.csv')"
   ]
  },
  {
   "cell_type": "code",
   "execution_count": null,
   "metadata": {},
   "outputs": [],
   "source": []
  }
 ],
 "metadata": {
  "kernelspec": {
   "display_name": "stem",
   "language": "python",
   "name": "stem"
  },
  "language_info": {
   "codemirror_mode": {
    "name": "ipython",
    "version": 3
   },
   "file_extension": ".py",
   "mimetype": "text/x-python",
   "name": "python",
   "nbconvert_exporter": "python",
   "pygments_lexer": "ipython3",
   "version": "3.9.2"
  }
 },
 "nbformat": 4,
 "nbformat_minor": 4
}
