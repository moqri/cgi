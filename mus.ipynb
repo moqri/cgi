{
 "cells": [
  {
   "cell_type": "code",
   "execution_count": 1,
   "metadata": {},
   "outputs": [],
   "source": [
    "import numpy as np\n",
    "import pandas as pd\n",
    "import pyBigWig\n",
    "import itertools\n",
    "sp_file='http://smithdata.usc.edu/methbase/data/Wang-Mouse-2014/Mouse_Sperm/tracks_mm10/Mouse_Sperm.hmr.bb'\n",
    "ftp='ftp://ftp.ensembl.org/pub/release-102/fasta/mus_musculus/dna/'\n",
    "\n",
    "def get_seq(chrs):\n",
    "    asmbl={}\n",
    "    for ch in chrs:\n",
    "        print(ch,end =\",\")\n",
    "        asmbl[ch]=ftp+'Mus_musculus.GRCm38.dna_rm.chromosome.'+str(ch)+'.fa.gz'\n",
    "        asmbl[ch]=pd.read_csv(asmbl[ch])\n",
    "        asmbl[ch]=''.join(asmbl[ch].iloc[:,0].tolist())\n",
    "    return (asmbl)    \n",
    "\n",
    "def ranges(i):\n",
    "    for a, b in itertools.groupby(enumerate(i), lambda pair: pair[1] - pair[0]):\n",
    "        b = list(b)\n",
    "        yield b[0][1], b[-1][1]\n",
    "        "
   ]
  },
  {
   "cell_type": "code",
   "execution_count": 2,
   "metadata": {},
   "outputs": [
    {
     "name": "stdout",
     "output_type": "stream",
     "text": [
      "3405887\n"
     ]
    },
    {
     "data": {
      "text/plain": [
       "61331127"
      ]
     },
     "execution_count": 2,
     "metadata": {},
     "output_type": "execute_result"
    }
   ],
   "source": [
    "bb=pyBigWig.open(sp_file)\n",
    "sp=bb.entries('chr19', 0, -1)\n",
    "len(sp)\n",
    "sps=[]\n",
    "for i in sp:\n",
    "    sps.append(set(range(i[0],i[1])))\n",
    "sps=frozenset().union(*sps)\n",
    "print(len(sps))\n",
    "np.max(list(sps))"
   ]
  },
  {
   "cell_type": "code",
   "execution_count": 3,
   "metadata": {},
   "outputs": [
    {
     "name": "stdout",
     "output_type": "stream",
     "text": [
      "534\n"
     ]
    }
   ],
   "source": [
    "cgi=pd.read_table('cm19',index_col=0)\n",
    "print(len(cgi))"
   ]
  },
  {
   "cell_type": "code",
   "execution_count": 7,
   "metadata": {},
   "outputs": [
    {
     "name": "stdout",
     "output_type": "stream",
     "text": [
      "360833\n"
     ]
    }
   ],
   "source": [
    "cgi['i']=cgi.apply(lambda x:(x['chromStart'],x['chromEnd']),1)\n",
    "cgis=[]\n",
    "for i in cgi.i.values:\n",
    "    cgis.append(set(range(i[0],i[1])))\n",
    "cgis=frozenset().union(*cgis)\n",
    "print(len(cgis))"
   ]
  },
  {
   "cell_type": "code",
   "execution_count": 8,
   "metadata": {},
   "outputs": [
    {
     "data": {
      "text/plain": [
       "356882"
      ]
     },
     "execution_count": 8,
     "metadata": {},
     "output_type": "execute_result"
    }
   ],
   "source": [
    "len(cgis&sps)"
   ]
  },
  {
   "cell_type": "code",
   "execution_count": 9,
   "metadata": {},
   "outputs": [
    {
     "data": {
      "text/plain": [
       "0.9890503363051606"
      ]
     },
     "execution_count": 9,
     "metadata": {},
     "output_type": "execute_result"
    }
   ],
   "source": [
    "len(cgis&sps)/len(cgis)"
   ]
  },
  {
   "cell_type": "code",
   "execution_count": 10,
   "metadata": {},
   "outputs": [
    {
     "name": "stdout",
     "output_type": "stream",
     "text": [
      "19,"
     ]
    },
    {
     "data": {
      "text/plain": [
       "61431566"
      ]
     },
     "execution_count": 10,
     "metadata": {},
     "output_type": "execute_result"
    }
   ],
   "source": [
    "asmbl=get_seq([19])\n",
    "len(asmbl[19])"
   ]
  },
  {
   "cell_type": "code",
   "execution_count": 19,
   "metadata": {},
   "outputs": [],
   "source": [
    "ch=19\n",
    "d=1000\n",
    "cgms=[]\n",
    "for b in range(len(asmbl[ch])-d):\n",
    "    c=asmbl[ch][b-d:b+d].count('C')\n",
    "    g=asmbl[ch][b-d:b+d].count('G')\n",
    "    if c+g>d:\n",
    "        cg=asmbl[ch][b-d:b+d].count('CG')\n",
    "        if cg>0:\n",
    "            tg=asmbl[ch][b-d:b+d].count('TG')\n",
    "            ca=asmbl[ch][b-d:b+d].count('CA')\n",
    "            if tg+ca==0:\n",
    "                cgms.append(b) \n",
    "            else:\n",
    "                m=(2*cg)/(tg+ca)\n",
    "                if m>.5:\n",
    "                   cgms.append(b) "
   ]
  },
  {
   "cell_type": "code",
   "execution_count": 20,
   "metadata": {},
   "outputs": [],
   "source": [
    "cgmsl=list(ranges(list(cgms)))"
   ]
  },
  {
   "cell_type": "code",
   "execution_count": 21,
   "metadata": {},
   "outputs": [],
   "source": [
    "cgmsl=[c for c in cgmsl if c[1]-c[0]>200]"
   ]
  },
  {
   "cell_type": "code",
   "execution_count": 22,
   "metadata": {},
   "outputs": [
    {
     "data": {
      "text/plain": [
       "340"
      ]
     },
     "execution_count": 22,
     "metadata": {},
     "output_type": "execute_result"
    }
   ],
   "source": [
    "len(cgmsl)"
   ]
  },
  {
   "cell_type": "code",
   "execution_count": 23,
   "metadata": {},
   "outputs": [
    {
     "data": {
      "text/plain": [
       "439495"
      ]
     },
     "execution_count": 23,
     "metadata": {},
     "output_type": "execute_result"
    }
   ],
   "source": [
    "cgmss=[]\n",
    "for i in cgmsl:\n",
    "    cgmss.append(set(range(i[0],i[1])))\n",
    "cgmss=frozenset().union(*cgmss)\n",
    "len(cgmss)"
   ]
  },
  {
   "cell_type": "code",
   "execution_count": 24,
   "metadata": {},
   "outputs": [
    {
     "data": {
      "text/plain": [
       "431998"
      ]
     },
     "execution_count": 24,
     "metadata": {},
     "output_type": "execute_result"
    }
   ],
   "source": [
    "len(cgmss&sps)"
   ]
  },
  {
   "cell_type": "code",
   "execution_count": 25,
   "metadata": {},
   "outputs": [
    {
     "data": {
      "text/plain": [
       "0.9829417854583101"
      ]
     },
     "execution_count": 25,
     "metadata": {},
     "output_type": "execute_result"
    }
   ],
   "source": [
    "len(cgmss&sps)/len(cgmss)"
   ]
  },
  {
   "cell_type": "code",
   "execution_count": null,
   "metadata": {},
   "outputs": [],
   "source": []
  }
 ],
 "metadata": {
  "kernelspec": {
   "display_name": "stem",
   "language": "python",
   "name": "stem"
  },
  "language_info": {
   "codemirror_mode": {
    "name": "ipython",
    "version": 3
   },
   "file_extension": ".py",
   "mimetype": "text/x-python",
   "name": "python",
   "nbconvert_exporter": "python",
   "pygments_lexer": "ipython3",
   "version": "3.9.2"
  }
 },
 "nbformat": 4,
 "nbformat_minor": 4
}
