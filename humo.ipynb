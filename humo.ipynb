{
 "cells": [
  {
   "cell_type": "code",
   "execution_count": 1,
   "metadata": {},
   "outputs": [],
   "source": [
    "import numpy as np\n",
    "import pandas as pd\n",
    "import pyBigWig\n",
    "import itertools\n",
    "sp_file='http://smithdata.usc.edu/methbase/data/Molaro-Sperm-2011/Human_Sperm/tracks_hg19/Human_Sperm.hmr.bb'\n",
    "ftp='ftp://ftp.ensembl.org/pub/grch37/current/fasta/homo_sapiens/dna/'\n",
    "\n",
    "def get_seq(chrs):\n",
    "    asmbl={}\n",
    "    for ch in chrs:\n",
    "        print(ch,end =\",\")\n",
    "        asmbl[ch]=ftp+'Homo_sapiens.GRCh37.dna.chromosome.'+str(ch)+'.fa.gz'\n",
    "        asmbl[ch]=pd.read_csv(asmbl[ch])\n",
    "        asmbl[ch]=''.join(asmbl[ch].iloc[:,0].tolist())\n",
    "    return (asmbl)    \n",
    "\n",
    "def ranges(i):\n",
    "    for a, b in itertools.groupby(enumerate(i), lambda pair: pair[1] - pair[0]):\n",
    "        b = list(b)\n",
    "        yield b[0][1], b[-1][1]\n",
    "        "
   ]
  },
  {
   "cell_type": "code",
   "execution_count": 2,
   "metadata": {},
   "outputs": [
    {
     "name": "stdout",
     "output_type": "stream",
     "text": [
      "2145364\n"
     ]
    },
    {
     "data": {
      "text/plain": [
       "51223635"
      ]
     },
     "execution_count": 2,
     "metadata": {},
     "output_type": "execute_result"
    }
   ],
   "source": [
    "bb=pyBigWig.open(sp_file)\n",
    "sp=bb.entries('chr22', 0, -1)\n",
    "len(sp)\n",
    "sps=[]\n",
    "for i in sp:\n",
    "    sps.append(set(range(i[0],i[1])))\n",
    "sps=frozenset().union(*sps)\n",
    "print(len(sps))\n",
    "np.max(list(sps))"
   ]
  },
  {
   "cell_type": "code",
   "execution_count": 3,
   "metadata": {},
   "outputs": [
    {
     "name": "stdout",
     "output_type": "stream",
     "text": [
      "719\n"
     ]
    }
   ],
   "source": [
    "cgi=pd.read_table('c22',index_col=0)\n",
    "print(len(cgi))"
   ]
  },
  {
   "cell_type": "code",
   "execution_count": 5,
   "metadata": {},
   "outputs": [
    {
     "name": "stdout",
     "output_type": "stream",
     "text": [
      "562123\n"
     ]
    }
   ],
   "source": [
    "cgi['i']=cgi.apply(lambda x:(x['chromStart'],x['chromEnd']),1)\n",
    "cgis=[]\n",
    "for i in cgi.i.values:\n",
    "    cgis.append(set(range(i[0],i[1])))\n",
    "cgis=frozenset().union(*cgis)\n",
    "print(len(cgis))"
   ]
  },
  {
   "cell_type": "code",
   "execution_count": 6,
   "metadata": {},
   "outputs": [
    {
     "data": {
      "text/plain": [
       "470304"
      ]
     },
     "execution_count": 6,
     "metadata": {},
     "output_type": "execute_result"
    }
   ],
   "source": [
    "len(cgis&sps)"
   ]
  },
  {
   "cell_type": "code",
   "execution_count": 7,
   "metadata": {},
   "outputs": [
    {
     "data": {
      "text/plain": [
       "0.8366567459435035"
      ]
     },
     "execution_count": 7,
     "metadata": {},
     "output_type": "execute_result"
    }
   ],
   "source": [
    "len(cgis&sps)/len(cgis)"
   ]
  },
  {
   "cell_type": "code",
   "execution_count": 8,
   "metadata": {},
   "outputs": [
    {
     "name": "stdout",
     "output_type": "stream",
     "text": [
      "22,"
     ]
    },
    {
     "data": {
      "text/plain": [
       "51304566"
      ]
     },
     "execution_count": 8,
     "metadata": {},
     "output_type": "execute_result"
    }
   ],
   "source": [
    "asmbl=get_seq([22])\n",
    "len(asmbl[22])"
   ]
  },
  {
   "cell_type": "code",
   "execution_count": 9,
   "metadata": {},
   "outputs": [
    {
     "data": {
      "text/plain": [
       "'N'"
      ]
     },
     "execution_count": 9,
     "metadata": {},
     "output_type": "execute_result"
    }
   ],
   "source": [
    "ch=22\n",
    "asmbl[ch][1000]"
   ]
  },
  {
   "cell_type": "code",
   "execution_count": 10,
   "metadata": {},
   "outputs": [],
   "source": [
    "ch=22\n",
    "d=1000\n",
    "cgms=[]\n",
    "for b in range(len(asmbl[ch]))[:20000000]:\n",
    "    if asmbl[ch][b]=='N':\n",
    "        cgms.append(0)\n",
    "    else:\n",
    "        c=asmbl[ch][b-d:b+d].count('C')\n",
    "        g=asmbl[ch][b-d:b+d].count('G')\n",
    "        cg=asmbl[ch][b-d:b+d].count('CG')\n",
    "        tg=asmbl[ch][b-d:b+d].count('TG')\n",
    "        ca=asmbl[ch][b-d:b+d].count('CA')\n",
    "        m=(2*cg+1)/(tg+ca+1)\n",
    "        m=np.round(m,2)\n",
    "        cgms.append(m)"
   ]
  },
  {
   "cell_type": "code",
   "execution_count": 11,
   "metadata": {},
   "outputs": [],
   "source": [
    "t=pd.DataFrame(cgms)"
   ]
  },
  {
   "cell_type": "code",
   "execution_count": 12,
   "metadata": {},
   "outputs": [
    {
     "data": {
      "text/plain": [
       "<AxesSubplot:>"
      ]
     },
     "execution_count": 12,
     "metadata": {},
     "output_type": "execute_result"
    },
    {
     "data": {
      "image/png": "[encoded data removed]",
      "text/plain": [
       "<Figure size 432x288 with 1 Axes>"
      ]
     },
     "metadata": {
      "needs_background": "light"
     },
     "output_type": "display_data"
    }
   ],
   "source": [
    "t[0].plot()"
   ]
  },
  {
   "cell_type": "code",
   "execution_count": 13,
   "metadata": {},
   "outputs": [],
   "source": [
    "t['chrom']='chr22'"
   ]
  },
  {
   "cell_type": "code",
   "execution_count": 14,
   "metadata": {},
   "outputs": [],
   "source": [
    "t['chromStart']=t.index+1\n",
    "t['chromEnd']=t.index+2\n",
    "t['dataValue']=t[0]"
   ]
  },
  {
   "cell_type": "code",
   "execution_count": 15,
   "metadata": {},
   "outputs": [],
   "source": [
    "t=t.drop([0],1)"
   ]
  },
  {
   "cell_type": "code",
   "execution_count": 16,
   "metadata": {},
   "outputs": [
    {
     "data": {
      "text/html": [
       "<div>\n",
       "<style scoped>\n",
       "    .dataframe tbody tr th:only-of-type {\n",
       "        vertical-align: middle;\n",
       "    }\n",
       "\n",
       "    .dataframe tbody tr th {\n",
       "        vertical-align: top;\n",
       "    }\n",
       "\n",
       "    .dataframe thead th {\n",
       "        text-align: right;\n",
       "    }\n",
       "</style>\n",
       "<table border=\"1\" class=\"dataframe\">\n",
       "  <thead>\n",
       "    <tr style=\"text-align: right;\">\n",
       "      <th></th>\n",
       "      <th>chrom</th>\n",
       "      <th>chromStart</th>\n",
       "      <th>chromEnd</th>\n",
       "      <th>dataValue</th>\n",
       "    </tr>\n",
       "  </thead>\n",
       "  <tbody>\n",
       "    <tr>\n",
       "      <th>0</th>\n",
       "      <td>chr22</td>\n",
       "      <td>1</td>\n",
       "      <td>2</td>\n",
       "      <td>0.00</td>\n",
       "    </tr>\n",
       "    <tr>\n",
       "      <th>1</th>\n",
       "      <td>chr22</td>\n",
       "      <td>2</td>\n",
       "      <td>3</td>\n",
       "      <td>0.00</td>\n",
       "    </tr>\n",
       "    <tr>\n",
       "      <th>2</th>\n",
       "      <td>chr22</td>\n",
       "      <td>3</td>\n",
       "      <td>4</td>\n",
       "      <td>0.00</td>\n",
       "    </tr>\n",
       "    <tr>\n",
       "      <th>3</th>\n",
       "      <td>chr22</td>\n",
       "      <td>4</td>\n",
       "      <td>5</td>\n",
       "      <td>0.00</td>\n",
       "    </tr>\n",
       "    <tr>\n",
       "      <th>4</th>\n",
       "      <td>chr22</td>\n",
       "      <td>5</td>\n",
       "      <td>6</td>\n",
       "      <td>0.00</td>\n",
       "    </tr>\n",
       "    <tr>\n",
       "      <th>...</th>\n",
       "      <td>...</td>\n",
       "      <td>...</td>\n",
       "      <td>...</td>\n",
       "      <td>...</td>\n",
       "    </tr>\n",
       "    <tr>\n",
       "      <th>19999995</th>\n",
       "      <td>chr22</td>\n",
       "      <td>19999996</td>\n",
       "      <td>19999997</td>\n",
       "      <td>0.17</td>\n",
       "    </tr>\n",
       "    <tr>\n",
       "      <th>19999996</th>\n",
       "      <td>chr22</td>\n",
       "      <td>19999997</td>\n",
       "      <td>19999998</td>\n",
       "      <td>0.17</td>\n",
       "    </tr>\n",
       "    <tr>\n",
       "      <th>19999997</th>\n",
       "      <td>chr22</td>\n",
       "      <td>19999998</td>\n",
       "      <td>19999999</td>\n",
       "      <td>0.17</td>\n",
       "    </tr>\n",
       "    <tr>\n",
       "      <th>19999998</th>\n",
       "      <td>chr22</td>\n",
       "      <td>19999999</td>\n",
       "      <td>20000000</td>\n",
       "      <td>0.17</td>\n",
       "    </tr>\n",
       "    <tr>\n",
       "      <th>19999999</th>\n",
       "      <td>chr22</td>\n",
       "      <td>20000000</td>\n",
       "      <td>20000001</td>\n",
       "      <td>0.17</td>\n",
       "    </tr>\n",
       "  </tbody>\n",
       "</table>\n",
       "<p>20000000 rows × 4 columns</p>\n",
       "</div>"
      ],
      "text/plain": [
       "          chrom  chromStart  chromEnd  dataValue\n",
       "0         chr22           1         2       0.00\n",
       "1         chr22           2         3       0.00\n",
       "2         chr22           3         4       0.00\n",
       "3         chr22           4         5       0.00\n",
       "4         chr22           5         6       0.00\n",
       "...         ...         ...       ...        ...\n",
       "19999995  chr22    19999996  19999997       0.17\n",
       "19999996  chr22    19999997  19999998       0.17\n",
       "19999997  chr22    19999998  19999999       0.17\n",
       "19999998  chr22    19999999  20000000       0.17\n",
       "19999999  chr22    20000000  20000001       0.17\n",
       "\n",
       "[20000000 rows x 4 columns]"
      ]
     },
     "execution_count": 16,
     "metadata": {},
     "output_type": "execute_result"
    }
   ],
   "source": [
    "t"
   ]
  },
  {
   "cell_type": "code",
   "execution_count": 17,
   "metadata": {},
   "outputs": [],
   "source": [
    "t.to_csv('c22.tsv',index=False, header=False, sep ='\\t')"
   ]
  },
  {
   "cell_type": "code",
   "execution_count": 173,
   "metadata": {},
   "outputs": [],
   "source": [
    "ch=22\n",
    "d=1000\n",
    "cgms=[]\n",
    "for b in range(len(asmbl[ch])-d):\n",
    "    c=asmbl[ch][b-d:b+d].count('C')\n",
    "    g=asmbl[ch][b-d:b+d].count('G')\n",
    "    if c+g>d:\n",
    "        cg=asmbl[ch][b-d:b+d].count('CG')\n",
    "        if cg>0:\n",
    "            tg=asmbl[ch][b-d:b+d].count('TG')\n",
    "            ca=asmbl[ch][b-d:b+d].count('CA')\n",
    "            if tg+ca==0:\n",
    "                cgms.append(b) \n",
    "            else:\n",
    "                m=(2*cg)/(tg+ca)\n",
    "                if m>.8:\n",
    "                   cgms.append(b) "
   ]
  },
  {
   "cell_type": "code",
   "execution_count": 8,
   "metadata": {},
   "outputs": [
    {
     "ename": "NameError",
     "evalue": "name 'cgms' is not defined",
     "output_type": "error",
     "traceback": [
      "\u001b[0;31m---------------------------------------------------------------------------\u001b[0m",
      "\u001b[0;31mNameError\u001b[0m                                 Traceback (most recent call last)",
      "\u001b[0;32m<ipython-input-8-ee9d8e4f26ae>\u001b[0m in \u001b[0;36m<module>\u001b[0;34m\u001b[0m\n\u001b[0;32m----> 1\u001b[0;31m \u001b[0mcgms\u001b[0m\u001b[0;34m=\u001b[0m\u001b[0mlist\u001b[0m\u001b[0;34m(\u001b[0m\u001b[0mranges\u001b[0m\u001b[0;34m(\u001b[0m\u001b[0mlist\u001b[0m\u001b[0;34m(\u001b[0m\u001b[0mcgms\u001b[0m\u001b[0;34m)\u001b[0m\u001b[0;34m)\u001b[0m\u001b[0;34m)\u001b[0m\u001b[0;34m\u001b[0m\u001b[0;34m\u001b[0m\u001b[0m\n\u001b[0m",
      "\u001b[0;31mNameError\u001b[0m: name 'cgms' is not defined"
     ]
    }
   ],
   "source": [
    "cgms=list(ranges(list(cgms)))"
   ]
  },
  {
   "cell_type": "code",
   "execution_count": 175,
   "metadata": {},
   "outputs": [],
   "source": [
    "cgms=[c for c in cgms if c[1]-c[0]>200]"
   ]
  },
  {
   "cell_type": "code",
   "execution_count": 176,
   "metadata": {},
   "outputs": [
    {
     "data": {
      "text/plain": [
       "374"
      ]
     },
     "execution_count": 176,
     "metadata": {},
     "output_type": "execute_result"
    }
   ],
   "source": [
    "len(cgms)"
   ]
  },
  {
   "cell_type": "code",
   "execution_count": 177,
   "metadata": {},
   "outputs": [
    {
     "data": {
      "text/plain": [
       "618937"
      ]
     },
     "execution_count": 177,
     "metadata": {},
     "output_type": "execute_result"
    }
   ],
   "source": [
    "cgmss=[]\n",
    "for i in cgms:\n",
    "    cgmss.append(set(range(i[0],i[1])))\n",
    "cgmss=frozenset().union(*cgmss)\n",
    "len(cgmss)"
   ]
  },
  {
   "cell_type": "code",
   "execution_count": 178,
   "metadata": {},
   "outputs": [
    {
     "data": {
      "text/plain": [
       "580713"
      ]
     },
     "execution_count": 178,
     "metadata": {},
     "output_type": "execute_result"
    }
   ],
   "source": [
    "len(cgmss&sps)"
   ]
  },
  {
   "cell_type": "code",
   "execution_count": 179,
   "metadata": {},
   "outputs": [
    {
     "data": {
      "text/plain": [
       "0.9382425028718593"
      ]
     },
     "execution_count": 179,
     "metadata": {},
     "output_type": "execute_result"
    }
   ],
   "source": [
    "len(cgmss&sps)/len(cgmss)"
   ]
  },
  {
   "cell_type": "code",
   "execution_count": null,
   "metadata": {},
   "outputs": [],
   "source": []
  }
 ],
 "metadata": {
  "kernelspec": {
   "display_name": "stem",
   "language": "python",
   "name": "stem"
  },
  "language_info": {
   "codemirror_mode": {
    "name": "ipython",
    "version": 3
   },
   "file_extension": ".py",
   "mimetype": "text/x-python",
   "name": "python",
   "nbconvert_exporter": "python",
   "pygments_lexer": "ipython3",
   "version": "3.9.2"
  }
 },
 "nbformat": 4,
 "nbformat_minor": 4
}
