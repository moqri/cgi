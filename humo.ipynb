{
 "cells": [
  {
   "cell_type": "code",
   "execution_count": 7,
   "metadata": {},
   "outputs": [],
   "source": [
    "import numpy as np\n",
    "import pandas as pd\n",
    "import pyBigWig\n",
    "import itertools\n",
    "sp_file='http://smithdata.usc.edu/methbase/data/Molaro-Sperm-2011/Human_Sperm/tracks_hg19/Human_Sperm.hmr.bb'\n",
    "ftp='ftp://ftp.ensembl.org/pub/grch37/current/fasta/homo_sapiens/dna/'\n",
    "\n",
    "def get_seq(chrs):\n",
    "    asmbl={}\n",
    "    for ch in chrs:\n",
    "        print(ch,end =\",\")\n",
    "        asmbl[ch]=ftp+'Homo_sapiens.GRCh37.dna.chromosome.'+str(ch)+'.fa.gz'\n",
    "        asmbl[ch]=pd.read_csv(asmbl[ch])\n",
    "        asmbl[ch]=''.join(asmbl[ch].iloc[:,0].tolist())\n",
    "    return (asmbl)    \n",
    "\n",
    "def ranges(i):\n",
    "    for a, b in itertools.groupby(enumerate(i), lambda pair: pair[1] - pair[0]):\n",
    "        b = list(b)\n",
    "        yield b[0][1], b[-1][1]\n",
    "        "
   ]
  },
  {
   "cell_type": "code",
   "execution_count": 15,
   "metadata": {},
   "outputs": [
    {
     "name": "stdout",
     "output_type": "stream",
     "text": [
      "2145364\n"
     ]
    },
    {
     "data": {
      "text/plain": [
       "51223635"
      ]
     },
     "execution_count": 15,
     "metadata": {},
     "output_type": "execute_result"
    }
   ],
   "source": [
    "bb=pyBigWig.open(sp_file)\n",
    "sp=bb.entries('chr22', 0, -1)\n",
    "len(sp)\n",
    "sps=[]\n",
    "for i in sp:\n",
    "    sps.append(set(range(i[0],i[1])))\n",
    "sps=frozenset().union(*sps)\n",
    "print(len(sps))\n",
    "np.max(list(sps))"
   ]
  },
  {
   "cell_type": "code",
   "execution_count": 16,
   "metadata": {},
   "outputs": [
    {
     "name": "stdout",
     "output_type": "stream",
     "text": [
      "719\n"
     ]
    }
   ],
   "source": [
    "cgi=pd.read_table('c22',index_col=0)\n",
    "print(len(cgi))"
   ]
  },
  {
   "cell_type": "code",
   "execution_count": 17,
   "metadata": {},
   "outputs": [
    {
     "data": {
      "text/html": [
       "<div>\n",
       "<style scoped>\n",
       "    .dataframe tbody tr th:only-of-type {\n",
       "        vertical-align: middle;\n",
       "    }\n",
       "\n",
       "    .dataframe tbody tr th {\n",
       "        vertical-align: top;\n",
       "    }\n",
       "\n",
       "    .dataframe thead th {\n",
       "        text-align: right;\n",
       "    }\n",
       "</style>\n",
       "<table border=\"1\" class=\"dataframe\">\n",
       "  <thead>\n",
       "    <tr style=\"text-align: right;\">\n",
       "      <th></th>\n",
       "      <th>chrom</th>\n",
       "      <th>chromStart</th>\n",
       "      <th>chromEnd</th>\n",
       "      <th>name</th>\n",
       "      <th>length</th>\n",
       "      <th>cpgNum</th>\n",
       "      <th>gcNum</th>\n",
       "      <th>perCpg</th>\n",
       "      <th>perGc</th>\n",
       "      <th>obsExp</th>\n",
       "    </tr>\n",
       "    <tr>\n",
       "      <th>#bin</th>\n",
       "      <th></th>\n",
       "      <th></th>\n",
       "      <th></th>\n",
       "      <th></th>\n",
       "      <th></th>\n",
       "      <th></th>\n",
       "      <th></th>\n",
       "      <th></th>\n",
       "      <th></th>\n",
       "      <th></th>\n",
       "    </tr>\n",
       "  </thead>\n",
       "  <tbody>\n",
       "    <tr>\n",
       "      <th>708</th>\n",
       "      <td>chr22</td>\n",
       "      <td>16122622</td>\n",
       "      <td>16122923</td>\n",
       "      <td>CpG: 41</td>\n",
       "      <td>301</td>\n",
       "      <td>41</td>\n",
       "      <td>233</td>\n",
       "      <td>27.2</td>\n",
       "      <td>77.4</td>\n",
       "      <td>0.91</td>\n",
       "    </tr>\n",
       "    <tr>\n",
       "      <th>708</th>\n",
       "      <td>chr22</td>\n",
       "      <td>16155753</td>\n",
       "      <td>16158017</td>\n",
       "      <td>CpG: 204</td>\n",
       "      <td>2264</td>\n",
       "      <td>204</td>\n",
       "      <td>1553</td>\n",
       "      <td>18.0</td>\n",
       "      <td>68.6</td>\n",
       "      <td>0.77</td>\n",
       "    </tr>\n",
       "    <tr>\n",
       "      <th>708</th>\n",
       "      <td>chr22</td>\n",
       "      <td>16192654</td>\n",
       "      <td>16193098</td>\n",
       "      <td>CpG: 37</td>\n",
       "      <td>444</td>\n",
       "      <td>37</td>\n",
       "      <td>297</td>\n",
       "      <td>16.7</td>\n",
       "      <td>66.9</td>\n",
       "      <td>0.75</td>\n",
       "    </tr>\n",
       "    <tr>\n",
       "      <th>708</th>\n",
       "      <td>chr22</td>\n",
       "      <td>16200149</td>\n",
       "      <td>16200707</td>\n",
       "      <td>CpG: 38</td>\n",
       "      <td>558</td>\n",
       "      <td>38</td>\n",
       "      <td>377</td>\n",
       "      <td>13.6</td>\n",
       "      <td>67.6</td>\n",
       "      <td>0.60</td>\n",
       "    </tr>\n",
       "    <tr>\n",
       "      <th>708</th>\n",
       "      <td>chr22</td>\n",
       "      <td>16217287</td>\n",
       "      <td>16217676</td>\n",
       "      <td>CpG: 32</td>\n",
       "      <td>389</td>\n",
       "      <td>32</td>\n",
       "      <td>272</td>\n",
       "      <td>16.5</td>\n",
       "      <td>69.9</td>\n",
       "      <td>0.70</td>\n",
       "    </tr>\n",
       "    <tr>\n",
       "      <th>...</th>\n",
       "      <td>...</td>\n",
       "      <td>...</td>\n",
       "      <td>...</td>\n",
       "      <td>...</td>\n",
       "      <td>...</td>\n",
       "      <td>...</td>\n",
       "      <td>...</td>\n",
       "      <td>...</td>\n",
       "      <td>...</td>\n",
       "      <td>...</td>\n",
       "    </tr>\n",
       "    <tr>\n",
       "      <th>975</th>\n",
       "      <td>chr22</td>\n",
       "      <td>51135670</td>\n",
       "      <td>51136118</td>\n",
       "      <td>CpG: 44</td>\n",
       "      <td>448</td>\n",
       "      <td>44</td>\n",
       "      <td>279</td>\n",
       "      <td>19.6</td>\n",
       "      <td>62.3</td>\n",
       "      <td>1.01</td>\n",
       "    </tr>\n",
       "    <tr>\n",
       "      <th>975</th>\n",
       "      <td>chr22</td>\n",
       "      <td>51142802</td>\n",
       "      <td>51143308</td>\n",
       "      <td>CpG: 38</td>\n",
       "      <td>506</td>\n",
       "      <td>38</td>\n",
       "      <td>328</td>\n",
       "      <td>15.0</td>\n",
       "      <td>64.8</td>\n",
       "      <td>0.72</td>\n",
       "    </tr>\n",
       "    <tr>\n",
       "      <th>975</th>\n",
       "      <td>chr22</td>\n",
       "      <td>51158386</td>\n",
       "      <td>51160060</td>\n",
       "      <td>CpG: 167</td>\n",
       "      <td>1674</td>\n",
       "      <td>167</td>\n",
       "      <td>1153</td>\n",
       "      <td>20.0</td>\n",
       "      <td>68.9</td>\n",
       "      <td>0.85</td>\n",
       "    </tr>\n",
       "    <tr>\n",
       "      <th>975</th>\n",
       "      <td>chr22</td>\n",
       "      <td>51169027</td>\n",
       "      <td>51170019</td>\n",
       "      <td>CpG: 81</td>\n",
       "      <td>992</td>\n",
       "      <td>81</td>\n",
       "      <td>564</td>\n",
       "      <td>16.3</td>\n",
       "      <td>56.9</td>\n",
       "      <td>1.02</td>\n",
       "    </tr>\n",
       "    <tr>\n",
       "      <th>975</th>\n",
       "      <td>chr22</td>\n",
       "      <td>51221772</td>\n",
       "      <td>51222317</td>\n",
       "      <td>CpG: 63</td>\n",
       "      <td>545</td>\n",
       "      <td>63</td>\n",
       "      <td>407</td>\n",
       "      <td>23.1</td>\n",
       "      <td>74.7</td>\n",
       "      <td>0.83</td>\n",
       "    </tr>\n",
       "  </tbody>\n",
       "</table>\n",
       "<p>719 rows × 10 columns</p>\n",
       "</div>"
      ],
      "text/plain": [
       "      chrom  chromStart  chromEnd      name  length  cpgNum  gcNum  perCpg  \\\n",
       "#bin                                                                         \n",
       "708   chr22    16122622  16122923   CpG: 41     301      41    233    27.2   \n",
       "708   chr22    16155753  16158017  CpG: 204    2264     204   1553    18.0   \n",
       "708   chr22    16192654  16193098   CpG: 37     444      37    297    16.7   \n",
       "708   chr22    16200149  16200707   CpG: 38     558      38    377    13.6   \n",
       "708   chr22    16217287  16217676   CpG: 32     389      32    272    16.5   \n",
       "...     ...         ...       ...       ...     ...     ...    ...     ...   \n",
       "975   chr22    51135670  51136118   CpG: 44     448      44    279    19.6   \n",
       "975   chr22    51142802  51143308   CpG: 38     506      38    328    15.0   \n",
       "975   chr22    51158386  51160060  CpG: 167    1674     167   1153    20.0   \n",
       "975   chr22    51169027  51170019   CpG: 81     992      81    564    16.3   \n",
       "975   chr22    51221772  51222317   CpG: 63     545      63    407    23.1   \n",
       "\n",
       "      perGc  obsExp  \n",
       "#bin                 \n",
       "708    77.4    0.91  \n",
       "708    68.6    0.77  \n",
       "708    66.9    0.75  \n",
       "708    67.6    0.60  \n",
       "708    69.9    0.70  \n",
       "...     ...     ...  \n",
       "975    62.3    1.01  \n",
       "975    64.8    0.72  \n",
       "975    68.9    0.85  \n",
       "975    56.9    1.02  \n",
       "975    74.7    0.83  \n",
       "\n",
       "[719 rows x 10 columns]"
      ]
     },
     "execution_count": 17,
     "metadata": {},
     "output_type": "execute_result"
    }
   ],
   "source": [
    "cgi"
   ]
  },
  {
   "cell_type": "code",
   "execution_count": 18,
   "metadata": {},
   "outputs": [
    {
     "name": "stdout",
     "output_type": "stream",
     "text": [
      "562123\n"
     ]
    }
   ],
   "source": [
    "cgi['i']=cgi.apply(lambda x:(x['chromStart'],x['chromEnd']),1)\n",
    "cgis=[]\n",
    "for i in cgi.i.values:\n",
    "    cgis.append(set(range(i[0],i[1])))\n",
    "cgis=frozenset().union(*cgis)\n",
    "print(len(cgis))"
   ]
  },
  {
   "cell_type": "code",
   "execution_count": 19,
   "metadata": {},
   "outputs": [
    {
     "data": {
      "text/plain": [
       "470304"
      ]
     },
     "execution_count": 19,
     "metadata": {},
     "output_type": "execute_result"
    }
   ],
   "source": [
    "len(cgis&sps)"
   ]
  },
  {
   "cell_type": "code",
   "execution_count": 20,
   "metadata": {},
   "outputs": [
    {
     "data": {
      "text/plain": [
       "0.8366567459435035"
      ]
     },
     "execution_count": 20,
     "metadata": {},
     "output_type": "execute_result"
    }
   ],
   "source": [
    "len(cgis&sps)/len(cgis)"
   ]
  },
  {
   "cell_type": "code",
   "execution_count": 21,
   "metadata": {},
   "outputs": [
    {
     "name": "stdout",
     "output_type": "stream",
     "text": [
      "22,"
     ]
    },
    {
     "data": {
      "text/plain": [
       "51304566"
      ]
     },
     "execution_count": 21,
     "metadata": {},
     "output_type": "execute_result"
    }
   ],
   "source": [
    "asmbl=get_seq([22])\n",
    "len(asmbl[22])"
   ]
  },
  {
   "cell_type": "code",
   "execution_count": 24,
   "metadata": {},
   "outputs": [
    {
     "data": {
      "text/plain": [
       "'N'"
      ]
     },
     "execution_count": 24,
     "metadata": {},
     "output_type": "execute_result"
    }
   ],
   "source": [
    "ch=22\n",
    "asmbl[ch][1000]"
   ]
  },
  {
   "cell_type": "code",
   "execution_count": 57,
   "metadata": {},
   "outputs": [],
   "source": [
    "ch=22\n",
    "d=100\n",
    "cgms=[]\n",
    "for b in range(len(asmbl[ch]))[:20000000]:\n",
    "    if asmbl[ch][b]=='N':\n",
    "        cgms.append(0)\n",
    "    else:\n",
    "        c=asmbl[ch][b-d:b+d].count('C')\n",
    "        g=asmbl[ch][b-d:b+d].count('G')\n",
    "        cg=asmbl[ch][b-d:b+d].count('CG')\n",
    "        tg=asmbl[ch][b-d:b+d].count('TG')\n",
    "        ca=asmbl[ch][b-d:b+d].count('CA')\n",
    "        m=(2*cg+1)/(tg+ca+1)\n",
    "        m=np.round(m,2)\n",
    "        cgms.append(m)"
   ]
  },
  {
   "cell_type": "code",
   "execution_count": 71,
   "metadata": {},
   "outputs": [],
   "source": [
    "t=pd.DataFrame(cgms)"
   ]
  },
  {
   "cell_type": "code",
   "execution_count": 72,
   "metadata": {},
   "outputs": [
    {
     "data": {
      "text/plain": [
       "<AxesSubplot:>"
      ]
     },
     "execution_count": 72,
     "metadata": {},
     "output_type": "execute_result"
    },
    {
     "data": {
      "image/png": "[encoded data removed]",
      "text/plain": [
       "<Figure size 432x288 with 1 Axes>"
      ]
     },
     "metadata": {
      "needs_background": "light"
     },
     "output_type": "display_data"
    }
   ],
   "source": [
    "t[0].plot()"
   ]
  },
  {
   "cell_type": "code",
   "execution_count": 74,
   "metadata": {},
   "outputs": [],
   "source": [
    "t['chrom']='chr22'"
   ]
  },
  {
   "cell_type": "code",
   "execution_count": 79,
   "metadata": {},
   "outputs": [],
   "source": [
    "t['chromStart']=t.index+1\n",
    "t['chromEnd']=t.index+2\n",
    "t['dataValue']=t[0]"
   ]
  },
  {
   "cell_type": "code",
   "execution_count": 83,
   "metadata": {},
   "outputs": [],
   "source": [
    "t=t.drop([0],1)"
   ]
  },
  {
   "cell_type": "code",
   "execution_count": 87,
   "metadata": {},
   "outputs": [],
   "source": [
    "t.to_csv('m22.tsv',index=False, header=False, sep ='\\t')"
   ]
  },
  {
   "cell_type": "code",
   "execution_count": 173,
   "metadata": {},
   "outputs": [],
   "source": [
    "ch=22\n",
    "d=1000\n",
    "cgms=[]\n",
    "for b in range(len(asmbl[ch])-d):\n",
    "    c=asmbl[ch][b-d:b+d].count('C')\n",
    "    g=asmbl[ch][b-d:b+d].count('G')\n",
    "    if c+g>d:\n",
    "        cg=asmbl[ch][b-d:b+d].count('CG')\n",
    "        if cg>0:\n",
    "            tg=asmbl[ch][b-d:b+d].count('TG')\n",
    "            ca=asmbl[ch][b-d:b+d].count('CA')\n",
    "            if tg+ca==0:\n",
    "                cgms.append(b) \n",
    "            else:\n",
    "                m=(2*cg)/(tg+ca)\n",
    "                if m>.8:\n",
    "                   cgms.append(b) "
   ]
  },
  {
   "cell_type": "code",
   "execution_count": 8,
   "metadata": {},
   "outputs": [
    {
     "ename": "NameError",
     "evalue": "name 'cgms' is not defined",
     "output_type": "error",
     "traceback": [
      "\u001b[0;31m---------------------------------------------------------------------------\u001b[0m",
      "\u001b[0;31mNameError\u001b[0m                                 Traceback (most recent call last)",
      "\u001b[0;32m<ipython-input-8-ee9d8e4f26ae>\u001b[0m in \u001b[0;36m<module>\u001b[0;34m\u001b[0m\n\u001b[0;32m----> 1\u001b[0;31m \u001b[0mcgms\u001b[0m\u001b[0;34m=\u001b[0m\u001b[0mlist\u001b[0m\u001b[0;34m(\u001b[0m\u001b[0mranges\u001b[0m\u001b[0;34m(\u001b[0m\u001b[0mlist\u001b[0m\u001b[0;34m(\u001b[0m\u001b[0mcgms\u001b[0m\u001b[0;34m)\u001b[0m\u001b[0;34m)\u001b[0m\u001b[0;34m)\u001b[0m\u001b[0;34m\u001b[0m\u001b[0;34m\u001b[0m\u001b[0m\n\u001b[0m",
      "\u001b[0;31mNameError\u001b[0m: name 'cgms' is not defined"
     ]
    }
   ],
   "source": [
    "cgms=list(ranges(list(cgms)))"
   ]
  },
  {
   "cell_type": "code",
   "execution_count": 175,
   "metadata": {},
   "outputs": [],
   "source": [
    "cgms=[c for c in cgms if c[1]-c[0]>200]"
   ]
  },
  {
   "cell_type": "code",
   "execution_count": 176,
   "metadata": {},
   "outputs": [
    {
     "data": {
      "text/plain": [
       "374"
      ]
     },
     "execution_count": 176,
     "metadata": {},
     "output_type": "execute_result"
    }
   ],
   "source": [
    "len(cgms)"
   ]
  },
  {
   "cell_type": "code",
   "execution_count": 177,
   "metadata": {},
   "outputs": [
    {
     "data": {
      "text/plain": [
       "618937"
      ]
     },
     "execution_count": 177,
     "metadata": {},
     "output_type": "execute_result"
    }
   ],
   "source": [
    "cgmss=[]\n",
    "for i in cgms:\n",
    "    cgmss.append(set(range(i[0],i[1])))\n",
    "cgmss=frozenset().union(*cgmss)\n",
    "len(cgmss)"
   ]
  },
  {
   "cell_type": "code",
   "execution_count": 178,
   "metadata": {},
   "outputs": [
    {
     "data": {
      "text/plain": [
       "580713"
      ]
     },
     "execution_count": 178,
     "metadata": {},
     "output_type": "execute_result"
    }
   ],
   "source": [
    "len(cgmss&sps)"
   ]
  },
  {
   "cell_type": "code",
   "execution_count": 179,
   "metadata": {},
   "outputs": [
    {
     "data": {
      "text/plain": [
       "0.9382425028718593"
      ]
     },
     "execution_count": 179,
     "metadata": {},
     "output_type": "execute_result"
    }
   ],
   "source": [
    "len(cgmss&sps)/len(cgmss)"
   ]
  },
  {
   "cell_type": "code",
   "execution_count": null,
   "metadata": {},
   "outputs": [],
   "source": []
  }
 ],
 "metadata": {
  "kernelspec": {
   "display_name": "stem",
   "language": "python",
   "name": "stem"
  },
  "language_info": {
   "codemirror_mode": {
    "name": "ipython",
    "version": 3
   },
   "file_extension": ".py",
   "mimetype": "text/x-python",
   "name": "python",
   "nbconvert_exporter": "python",
   "pygments_lexer": "ipython3",
   "version": "3.9.2"
  }
 },
 "nbformat": 4,
 "nbformat_minor": 4
}
